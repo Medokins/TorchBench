{
 "cells": [
  {
   "cell_type": "code",
   "execution_count": 1,
   "id": "6076c2ff",
   "metadata": {},
   "outputs": [],
   "source": [
    "from models import make_classification_models\n",
    "import torch.fx as fx\n",
    "\n",
    "models = make_classification_models(32, 2)"
   ]
  },
  {
   "cell_type": "code",
   "execution_count": 2,
   "id": "94d09f05",
   "metadata": {},
   "outputs": [
    {
     "data": {
      "text/plain": [
       "'Sequential(\\n  (0): Linear(in_features=32, out_features=128, bias=True)\\n  (1): ReLU()\\n  (2): Linear(in_features=128, out_features=64, bias=True)\\n  (3): ReLU()\\n  (4): Linear(in_features=64, out_features=2, bias=True)\\n)'"
      ]
     },
     "execution_count": 2,
     "metadata": {},
     "output_type": "execute_result"
    }
   ],
   "source": [
    "C5 = models[\"C5\"]\n",
    "str(C5)"
   ]
  },
  {
   "cell_type": "code",
   "execution_count": null,
   "id": "20a8058b",
   "metadata": {},
   "outputs": [
    {
     "name": "stderr",
     "output_type": "stream",
     "text": [
      "C:\\Users\\nikod\\AppData\\Local\\Temp\\ipykernel_10492\\517031605.py:56: UserWarning: This figure includes Axes that are not compatible with tight_layout, so results might be incorrect.\n",
      "  plt.tight_layout()\n"
     ]
    },
    {
     "data": {
      "image/png": "[encoded data removed]",
      "text/plain": [
       "<Figure size 1200x300 with 1 Axes>"
      ]
     },
     "metadata": {},
     "output_type": "display_data"
    }
   ],
   "source": [
    "import torch.nn as nn\n",
    "import torch.fx as fx\n",
    "import matplotlib.pyplot as plt\n",
    "import networkx as nx\n",
    "\n",
    "def trace_model_to_graph(model, include_params=False):\n",
    "    traced = fx.symbolic_trace(model)\n",
    "    nodes = []\n",
    "    edges = []\n",
    "\n",
    "    node_ids = {}\n",
    "    current_id = 0\n",
    "\n",
    "    for node in traced.graph.nodes:\n",
    "        if node.op in ['call_module', 'call_function']:\n",
    "            node_ids[node] = current_id\n",
    "            layer_name = \"\"\n",
    "            if node.op == 'call_module':\n",
    "                submod = dict(model.named_modules()).get(node.target, None)\n",
    "                layer_name = type(submod).__name__ if submod else str(node.target)\n",
    "            elif node.op == 'call_function':\n",
    "                layer_name = str(node.target).split('.')[-1]\n",
    "            if include_params and node.op == 'call_module' and submod:\n",
    "                params = {k: tuple(v.shape) for k, v in submod.state_dict().items()}\n",
    "                label = f\"{layer_name}\\n{params}\"\n",
    "            else:\n",
    "                label = layer_name\n",
    "            nodes.append((current_id, label))\n",
    "            current_id += 1\n",
    "\n",
    "    for node in traced.graph.nodes:\n",
    "        if node.op in ['call_module', 'call_function']:\n",
    "            for input_node in node.all_input_nodes:\n",
    "                if input_node in node_ids:\n",
    "                    edges.append((node_ids[input_node], node_ids[node]))\n",
    "\n",
    "    return nodes, edges\n",
    "\n",
    "def visualize_graph_linear(nodes, edges, figsize=(12, 3)):\n",
    "    G = nx.DiGraph()\n",
    "    for node_id, label in nodes:\n",
    "        G.add_node(node_id, label=label)\n",
    "    for src, dst in edges:\n",
    "        G.add_edge(src, dst)\n",
    "\n",
    "    pos = {node_id: (i * 2, 0) for i, (node_id, _) in enumerate(nodes)}\n",
    "    labels = nx.get_node_attributes(G, 'label')\n",
    "\n",
    "    plt.figure(figsize=figsize)\n",
    "    nx.draw(G, pos, with_labels=True, labels=labels,\n",
    "            node_size=2200, node_color=\"lightblue\",\n",
    "            font_size=10, font_weight='bold', edge_color='gray')\n",
    "    plt.title(\"Straight-Line FX Graph\", fontsize=14)\n",
    "    plt.axis('off')\n",
    "    plt.tight_layout()\n",
    "    plt.show()\n",
    "\n",
    "nodes, edges = trace_model_to_graph(C5)\n",
    "visualize_graph_linear(nodes, edges)"
   ]
  },
  {
   "cell_type": "markdown",
   "id": "9e9f625c",
   "metadata": {},
   "source": [
    "### Helpers for plotting"
   ]
  },
  {
   "cell_type": "code",
   "execution_count": 3,
   "id": "90169e90",
   "metadata": {},
   "outputs": [],
   "source": [
    "import pandas as pd\n",
    "import matplotlib.pyplot as plt\n",
    "\n",
    "def model_size_key(size_str):\n",
    "    try:\n",
    "        return sum(int(x) for x in size_str.strip(\"[]\").split(\",\"))\n",
    "    except:\n",
    "        return 0\n",
    "\n",
    "df = pd.read_csv(\"benchmark_scalability_results.csv\")\n",
    "df[\"model_size_str\"] = df[\"model_size\"].apply(lambda x: x.strip(\"[]\").replace(\", \", \"-\"))\n",
    "df[\"model_size_num\"] = df[\"model_size\"].apply(lambda x: model_size_key(x))\n",
    "\n",
    "df[\"avg_compare_time\"] = df[[\n",
    "    \"string_time\",\n",
    "    \"graph_structural_time\",\n",
    "    \"graph_structural_with_params_time\"\n",
    "]].mean(axis=1)\n",
    "\n",
    "train_df = df.groupby([\"model_size_str\", \"model_size_num\", \"dataset\"]).agg({\n",
    "    \"train_time\": \"mean\",\n",
    "    \"avg_compare_time\": \"mean\"\n",
    "}).reset_index()\n",
    "\n",
    "train_df = train_df.sort_values(\"model_size_num\")\n",
    "\n",
    "fig, ax = plt.subplots(figsize=(10, 6))\n",
    "for dataset in train_df[\"dataset\"].unique():\n",
    "    subset = train_df[train_df[\"dataset\"] == dataset]\n",
    "    ax.plot(subset[\"model_size_str\"], subset[\"train_time\"], marker='o', label=f\"{dataset} – trenowanie\")\n",
    "    ax.plot(subset[\"model_size_str\"], subset[\"avg_compare_time\"], marker='x', linestyle='--', label=f\"{dataset} – porównanie\")\n",
    "\n",
    "ax.set_xlabel(\"Rozmiar modelu\")\n",
    "ax.set_ylabel(\"Czas (s)\")\n",
    "ax.set_title(\"Czas trenowania vs czas porównania architektur\")\n",
    "ax.legend()\n",
    "plt.xticks(rotation=45)\n",
    "plt.tight_layout()\n",
    "plt.savefig(\"train_vs_compare_time.png\")\n",
    "plt.close()\n",
    "\n",
    "scal_df = df.groupby([\"model_size_str\", \"model_size_num\"]).agg({\n",
    "    \"string_time\": \"mean\",\n",
    "    \"graph_structural_time\": \"mean\",\n",
    "    \"graph_structural_with_params_time\": \"mean\"\n",
    "}).reset_index()\n",
    "\n",
    "scal_df = scal_df.sort_values(\"model_size_num\")\n",
    "\n",
    "fig, ax = plt.subplots(figsize=(10, 6))\n",
    "ax.plot(scal_df[\"model_size_str\"], scal_df[\"string_time\"], marker='o', label=\"String-based\")\n",
    "ax.plot(scal_df[\"model_size_str\"], scal_df[\"graph_structural_time\"], marker='s', label=\"Graph\")\n",
    "ax.plot(scal_df[\"model_size_str\"], scal_df[\"graph_structural_with_params_time\"], marker='^', label=\"Graph + Params\")\n",
    "\n",
    "ax.set_xlabel(\"Rozmiar modelu\")\n",
    "ax.set_ylabel(\"Czas porównania (s)\")\n",
    "ax.set_title(\"Skalowalność — czas porównania względem rozmiaru modelu\")\n",
    "ax.legend()\n",
    "plt.xticks(rotation=45)\n",
    "plt.tight_layout()\n",
    "plt.savefig(\"scalability_graph.png\")\n",
    "plt.close()"
   ]
  }
 ],
 "metadata": {
  "kernelspec": {
   "display_name": "torchbench",
   "language": "python",
   "name": "python3"
  },
  "language_info": {
   "codemirror_mode": {
    "name": "ipython",
    "version": 3
   },
   "file_extension": ".py",
   "mimetype": "text/x-python",
   "name": "python",
   "nbconvert_exporter": "python",
   "pygments_lexer": "ipython3",
   "version": "3.10.16"
  }
 },
 "nbformat": 4,
 "nbformat_minor": 5
}
